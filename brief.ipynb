{
  "cells": [
    {
      "cell_type": "code",
      "source": [
        "from google.colab import files\n",
        "uploaded = files.upload()"
      ],
      "metadata": {
        "id": "2rSPesdSr6R8"
      },
      "execution_count": null,
      "outputs": []
    },
    {
      "cell_type": "code",
      "source": [
        "import pandas as pd\n",
        "import yfinance as yf\n",
        "\n",
        "# Read in the CSV file containing the stock tickers\n",
        "df = pd.read_csv('h.csv')\n",
        "\n",
        "# Extract the list of stock tickers from the 'symbol' column\n",
        "ticker_list = list(df['symbol'].values)\n",
        "\n",
        "# Create a Tickers object with the list of tickers\n",
        "tickers = yf.Tickers(ticker_list)\n",
        "\n",
        "# Create an empty list to store the business summaries\n",
        "summaries = []\n",
        "\n",
        "# Iterate over each ticker and retrieve the business summary\n",
        "for ticker in ticker_list:\n",
        "    try:\n",
        "        summary = tickers.tickers[ticker].info['longBusinessSummary']\n",
        "        summaries.append(summary)\n",
        "    except:\n",
        "        summaries.append(None)\n",
        "\n",
        "# Add the business summaries as a new column in the DataFrame\n",
        "df['Business Summary'] = summaries\n",
        "\n",
        "# Save the updated DataFrame to a new CSV file\n",
        "df.to_csv('h_sum.csv', index=False)"
      ],
      "metadata": {
        "id": "fNahUROYr12O"
      },
      "execution_count": null,
      "outputs": []
    },
    {
      "cell_type": "code",
      "execution_count": null,
      "metadata": {
        "colab": {
          "base_uri": "https://localhost:8080/"
        },
        "id": "vsTlFm_eV_S6",
        "outputId": "a4461c89-1201-4897-85f6-69319e21f8bc"
      },
      "outputs": [
        {
          "output_type": "stream",
          "name": "stdout",
          "text": [
            "Collecting openai==0.28\n",
            "  Downloading openai-0.28.0-py3-none-any.whl (76 kB)\n",
            "\u001b[?25l     \u001b[90m━━━━━━━━━━━━━━━━━━━━━━━━━━━━━━━━━━━━━━━━\u001b[0m \u001b[32m0.0/76.5 kB\u001b[0m \u001b[31m?\u001b[0m eta \u001b[36m-:--:--\u001b[0m\r\u001b[2K     \u001b[90m━━━━━━━━━━━━━━━━━━━━━━━━━━━━━━━━━━━━━━━━\u001b[0m \u001b[32m76.5/76.5 kB\u001b[0m \u001b[31m2.6 MB/s\u001b[0m eta \u001b[36m0:00:00\u001b[0m\n",
            "\u001b[?25hRequirement already satisfied: requests>=2.20 in /usr/local/lib/python3.10/dist-packages (from openai==0.28) (2.31.0)\n",
            "Requirement already satisfied: tqdm in /usr/local/lib/python3.10/dist-packages (from openai==0.28) (4.66.4)\n",
            "Requirement already satisfied: aiohttp in /usr/local/lib/python3.10/dist-packages (from openai==0.28) (3.9.5)\n",
            "Requirement already satisfied: charset-normalizer<4,>=2 in /usr/local/lib/python3.10/dist-packages (from requests>=2.20->openai==0.28) (3.3.2)\n",
            "Requirement already satisfied: idna<4,>=2.5 in /usr/local/lib/python3.10/dist-packages (from requests>=2.20->openai==0.28) (3.7)\n",
            "Requirement already satisfied: urllib3<3,>=1.21.1 in /usr/local/lib/python3.10/dist-packages (from requests>=2.20->openai==0.28) (2.0.7)\n",
            "Requirement already satisfied: certifi>=2017.4.17 in /usr/local/lib/python3.10/dist-packages (from requests>=2.20->openai==0.28) (2024.6.2)\n",
            "Requirement already satisfied: aiosignal>=1.1.2 in /usr/local/lib/python3.10/dist-packages (from aiohttp->openai==0.28) (1.3.1)\n",
            "Requirement already satisfied: attrs>=17.3.0 in /usr/local/lib/python3.10/dist-packages (from aiohttp->openai==0.28) (23.2.0)\n",
            "Requirement already satisfied: frozenlist>=1.1.1 in /usr/local/lib/python3.10/dist-packages (from aiohttp->openai==0.28) (1.4.1)\n",
            "Requirement already satisfied: multidict<7.0,>=4.5 in /usr/local/lib/python3.10/dist-packages (from aiohttp->openai==0.28) (6.0.5)\n",
            "Requirement already satisfied: yarl<2.0,>=1.0 in /usr/local/lib/python3.10/dist-packages (from aiohttp->openai==0.28) (1.9.4)\n",
            "Requirement already satisfied: async-timeout<5.0,>=4.0 in /usr/local/lib/python3.10/dist-packages (from aiohttp->openai==0.28) (4.0.3)\n",
            "Installing collected packages: openai\n",
            "Successfully installed openai-0.28.0\n"
          ]
        }
      ],
      "source": [
        "!pip install openai==0.28"
      ]
    },
    {
      "cell_type": "code",
      "execution_count": null,
      "metadata": {
        "colab": {
          "base_uri": "https://localhost:8080/"
        },
        "id": "cFS9OxAJ1YdN",
        "outputId": "bfb25511-93e3-4c7d-a4fd-fb245bf3fa45"
      },
      "outputs": [
        {
          "output_type": "stream",
          "name": "stdout",
          "text": [
            "                              Company Classification Ticker  \\\n",
            "0           Life sciences and diagnostics solutions.      A   \n",
            "1              Produces and sells aluminum products.     AA   \n",
            "2    Provides diverse educational services globally.   AACG   \n",
            "3        Acquires fintech companies through mergers.   AACI   \n",
            "4        Special purpose acquisition company (SPAC).   AACT   \n",
            "..                                               ...    ...   \n",
            "814       Leases diversified commercial real estate.    BNL   \n",
            "815                Develops drugs for CNS disorders.   BNOX   \n",
            "816         Develops cancer therapy selection tests.    BNR   \n",
            "817     Insurance and reinsurance services provider.   BNRE   \n",
            "818         Develops thermal energy storage systems.   BNRG   \n",
            "\n",
            "                                      Business Summary  \n",
            "0    Agilent Technologies, Inc. provides applicatio...  \n",
            "1    Alcoa Corporation, together with its subsidiar...  \n",
            "2    ATA Creativity Global, together with its subsi...  \n",
            "3    Armada Acquisition Corp. I does not have signi...  \n",
            "4    Ares Acquisition Corporation II does not have ...  \n",
            "..                                                 ...  \n",
            "814  BNL is an industrial-focused, diversified net ...  \n",
            "815  Bionomics Limited, a clinical stage biopharmac...  \n",
            "816  Burning Rock Biotech Limited primarily develop...  \n",
            "817  Brookfield Reinsurance Ltd., through its subsi...  \n",
            "818  Brenmiller Energy Ltd. develops, produces, mar...  \n",
            "\n",
            "[819 rows x 3 columns]\n"
          ]
        }
      ],
      "source": [
        "import openai\n",
        "import pandas as pd\n",
        "import time\n",
        "\n",
        "openai.api_key = \" \"  # Replace with your actual API key\n",
        "\n",
        "def classify_company(summary):\n",
        "    try:\n",
        "        response = openai.ChatCompletion.create(\n",
        "            model=\"gpt-4o\",  # Ensure you're using the correct model identifier\n",
        "            messages=[\n",
        "                {\"role\": \"system\", \"content\": \"You are a helpful assistant.\"},\n",
        "                {\"role\": \"user\", \"content\": f\"Based on the following business summary, provide a 5-word brief explanation of what the company does:\\n\\n{summary}\\n\\nExplanation:\"}\n",
        "            ],\n",
        "            max_tokens=20,\n",
        "            temperature=0.7,\n",
        "        )\n",
        "        explanation = response.choices[0].message['content'].strip()\n",
        "        return explanation\n",
        "    except Exception as e:\n",
        "        print(f\"An error occurred: {e}\")\n",
        "        return \"\"\n",
        "\n",
        "# Read the CSV file\n",
        "df = pd.read_csv(\"sheet.csv\")  # Replace \"sheet.csv\" with your actual CSV file name\n",
        "\n",
        "# Set the rate limit (e.g., 60 requests per minute)\n",
        "rate_limit = 60\n",
        "interval = 60 / rate_limit\n",
        "\n",
        "# Initialize a list to store the company classifications\n",
        "classification_list = []\n",
        "\n",
        "# Iterate over each business summary and classify the company with rate limiting\n",
        "for summary in df[\"Business Summary\"]:\n",
        "    classification = classify_company(summary)\n",
        "    classification_list.append(classification)\n",
        "\n",
        "    # Sleep for the specified interval to maintain the rate limit\n",
        "    time.sleep(interval)\n",
        "\n",
        "# Add the company classifications as a new column in the DataFrame\n",
        "df[\"Company Classification\"] = classification_list\n",
        "\n",
        "# Reorder the columns to have Company Classification first, followed by Ticker and Business Summary\n",
        "df = df[[\"Company Classification\", \"Ticker\", \"Business Summary\"]]\n",
        "\n",
        "# Save the updated DataFrame to a new CSV file\n",
        "df.to_csv(\"classified_company_data.csv\", index=False)\n",
        "\n",
        "# Print the updated DataFrame\n",
        "print(df)\n"
      ]
    }
  ],
  "metadata": {
    "colab": {
      "provenance": [],
      "authorship_tag": "ABX9TyNb+cz3Im749tn3pmAnM2Uk"
    },
    "kernelspec": {
      "display_name": "Python 3",
      "name": "python3"
    },
    "language_info": {
      "name": "python"
    }
  },
  "nbformat": 4,
  "nbformat_minor": 0
}