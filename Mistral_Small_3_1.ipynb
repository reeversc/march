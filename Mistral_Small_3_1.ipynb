{
  "nbformat": 4,
  "nbformat_minor": 0,
  "metadata": {
    "colab": {
      "provenance": [],
      "include_colab_link": true
    },
    "kernelspec": {
      "name": "python3",
      "display_name": "Python 3"
    },
    "language_info": {
      "name": "python"
    }
  },
  "cells": [
    {
      "cell_type": "markdown",
      "metadata": {
        "id": "view-in-github",
        "colab_type": "text"
      },
      "source": [
        "<a href=\"https://colab.research.google.com/github/reeversc/march/blob/main/Mistral_Small_3_1.ipynb\" target=\"_parent\"><img src=\"https://colab.research.google.com/assets/colab-badge.svg\" alt=\"Open In Colab\"/></a>"
      ]
    },
    {
      "cell_type": "code",
      "execution_count": null,
      "metadata": {
        "colab": {
          "base_uri": "https://localhost:8080/"
        },
        "id": "_1A1pE6URrD0",
        "outputId": "2821377a-1077-4093-9903-93a786af7f15"
      },
      "outputs": [
        {
          "output_type": "stream",
          "name": "stdout",
          "text": [
            "\u001b[?25l   \u001b[90m━━━━━━━━━━━━━━━━━━━━━━━━━━━━━━━━━━━━━━━━\u001b[0m \u001b[32m0.0/278.3 kB\u001b[0m \u001b[31m?\u001b[0m eta \u001b[36m-:--:--\u001b[0m\r\u001b[2K   \u001b[90m━━━━━━━━━━━━━━━━━━━━━━━━━━━━━━━━━━━━━━━━\u001b[0m \u001b[32m278.3/278.3 kB\u001b[0m \u001b[31m9.6 MB/s\u001b[0m eta \u001b[36m0:00:00\u001b[0m\n",
            "\u001b[?25h"
          ]
        }
      ],
      "source": [
        "!pip install mistralai -q"
      ]
    },
    {
      "cell_type": "code",
      "source": [
        "import os\n",
        "from mistralai import Mistral\n",
        "import textwrap\n",
        "from IPython.display import Markdown, display\n",
        "from google.colab import userdata\n",
        "\n",
        "\n",
        "api_key = userdata.get('MISTRLA_API_KEY1')\n",
        "model = \"mistral-small-latest\"\n",
        "\n",
        "client = Mistral(api_key=api_key)\n",
        "\n",
        "chat_response = client.chat.complete(\n",
        "    model = model,\n",
        "    messages = [\n",
        "        {\n",
        "            \"role\": \"user\",\n",
        "            \"content\": \"What is the best French cheese?\",\n",
        "        },\n",
        "    ]\n",
        ")\n",
        "\n",
        "print(chat_response.choices[0].message.content)"
      ],
      "metadata": {
        "colab": {
          "base_uri": "https://localhost:8080/"
        },
        "id": "DPnfpbxZRzWh",
        "outputId": "17687b1a-5ee8-402b-f091-9983d2fcf66b"
      },
      "execution_count": null,
      "outputs": [
        {
          "output_type": "stream",
          "name": "stdout",
          "text": [
            "Choosing the \"best\" French cheese can be highly subjective, as it depends on personal taste preferences. France is renowned for its diverse and high-quality cheeses, with over 400 varieties. Here are a few highly regarded ones across different categories:\n",
            "\n",
            "1. **Soft Cheeses**:\n",
            "   - **Camembert de Normandie**: Known for its creamy texture and rich flavor.\n",
            "   - **Brie de Meaux**: A classic soft cheese with a buttery texture and earthy notes.\n",
            "\n",
            "2. **Semi-Soft Cheeses**:\n",
            "   - **Reblochon**: A nutty and creamy cheese from the Savoie region.\n",
            "   - **Morbier**: Known for its distinctive line of ash and rich, creamy flavor.\n",
            "\n",
            "3. **Hard Cheeses**:\n",
            "   - **Comté**: A nutty and complex cheese from the Jura region.\n",
            "   - **Beaufort**: Often compared to Gruyère, it has a rich, nutty flavor.\n",
            "\n",
            "4. **Blue Cheeses**:\n",
            "   - **Roquefort**: One of the oldest known cheeses, with a strong, tangy flavor.\n",
            "   - **Bleu d'Auvergne**: A creamy blue cheese with a mild, slightly tangy flavor.\n",
            "\n",
            "5. **Goat Cheeses**:\n",
            "   - **Chèvre**: Available in various forms, from fresh and tangy to aged and crumbly.\n",
            "   - **Sainte-Maure de Touraine**: A semi-soft goat cheese with a distinctive cylindrical shape.\n",
            "\n",
            "Each of these cheeses has its own unique characteristics and is beloved by many. The \"best\" one ultimately depends on your personal taste preferences.\n"
          ]
        }
      ]
    },
    {
      "cell_type": "code",
      "source": [
        "chat_response = client.chat.complete(\n",
        "    model = model,\n",
        "    messages = [\n",
        "        {\n",
        "            \"role\": \"user\",\n",
        "            \"content\": \"\"\"Classify the following email to determine if it is spam or not. Only respond with the exact words \"Spam\" or \"Not spam\".\n",
        "\n",
        "🎉 Urgent! You've Won a $1,000,000 Cash Prize! 💰 To claim your prize, please click on the link below: https://bit.ly/claim-your-prize\"\"\",\n",
        "        },\n",
        "    ]\n",
        ")\n",
        "\n",
        "print(chat_response.choices[0].message.content)"
      ],
      "metadata": {
        "colab": {
          "base_uri": "https://localhost:8080/"
        },
        "id": "-YAQzoZ3WODI",
        "outputId": "c2e594f0-8ae6-4f32-9084-12d18033cc38"
      },
      "execution_count": null,
      "outputs": [
        {
          "output_type": "stream",
          "name": "stdout",
          "text": [
            "Spam\n"
          ]
        }
      ]
    },
    {
      "cell_type": "code",
      "source": [
        "chat_response = client.chat.complete(\n",
        "    model = model,\n",
        "    messages = [\n",
        "        {\n",
        "            \"role\": \"user\",\n",
        "            \"content\": \"\"\"What day is today?\"\"\",\n",
        "        },\n",
        "    ]\n",
        ")\n",
        "\n",
        "print(chat_response.choices[0].message.content)"
      ],
      "metadata": {
        "colab": {
          "base_uri": "https://localhost:8080/"
        },
        "id": "a6Qo72iJWgnq",
        "outputId": "9de77e4a-8df8-41e5-a4c9-2d6b9a8464d2"
      },
      "execution_count": null,
      "outputs": [
        {
          "output_type": "stream",
          "name": "stdout",
          "text": [
            "I'm an assistant that operates solely on the data it was trained on up until 2023, so I don't have real-time or up-to-date information. To find out today's date, you can check a calendar or ask a voice assistant like Siri, Google Assistant, or Alexa.\n"
          ]
        }
      ]
    },
    {
      "cell_type": "code",
      "source": [
        "chat_response = client.chat.complete(\n",
        "    model = model,\n",
        "    messages = [\n",
        "        {\n",
        "            \"role\": \"user\",\n",
        "            \"content\": \"\"\"What model version are you?\"\"\",\n",
        "        },\n",
        "    ]\n",
        ")\n",
        "\n",
        "print(chat_response.choices[0].message.content)"
      ],
      "metadata": {
        "colab": {
          "base_uri": "https://localhost:8080/"
        },
        "id": "Z57gJZ6bWvAS",
        "outputId": "19218ce3-56c5-47d9-e847-8153d11a9ce3"
      },
      "execution_count": null,
      "outputs": [
        {
          "output_type": "stream",
          "name": "stdout",
          "text": [
            "I am based on a mixture of models, but my responses are primarily generated using a model architecture similar to GPT-3.5, developed by Mistral AI. This model is designed to understand and generate human-like text based on the input it receives. If you have any specific questions or need assistance with something, feel free to ask!\n"
          ]
        }
      ]
    },
    {
      "cell_type": "code",
      "source": [
        "chat_response = client.chat.complete(\n",
        "    model = model,\n",
        "    messages = [\n",
        "        {\n",
        "            \"role\": \"user\",\n",
        "            \"content\": \"\"\"Do you know anything about Mistral Small 3.1?\"\"\",\n",
        "        },\n",
        "    ]\n",
        ")\n",
        "\n",
        "print(chat_response.choices[0].message.content)"
      ],
      "metadata": {
        "colab": {
          "base_uri": "https://localhost:8080/"
        },
        "id": "QRFY1SCNXIXN",
        "outputId": "d4e78248-9252-4dc3-ae7e-94d942eb0192"
      },
      "execution_count": null,
      "outputs": [
        {
          "output_type": "stream",
          "name": "stdout",
          "text": [
            "As of my last update in October 2023, there isn't specific information available about \"Mistral Small 3.1.\" It's possible that it could refer to a model or product that was released after my last update, or it might be a niche or specialized item that isn't widely documented.\n",
            "\n",
            "Mistral AI is a company known for developing large language models, and they have released several models, including Mistral 7B. However, without more context or specific details, it's challenging to provide accurate information about \"Mistral Small 3.1.\"\n",
            "\n",
            "If you have more context or details about what \"Mistral Small 3.1\" refers to, I might be able to provide more relevant information. Alternatively, checking the latest releases or announcements from Mistral AI or related sources would be the best way to get up-to-date information.\n"
          ]
        }
      ]
    },
    {
      "cell_type": "code",
      "source": [],
      "metadata": {
        "id": "GRAFJcLrelIF"
      },
      "execution_count": null,
      "outputs": []
    },
    {
      "cell_type": "code",
      "source": [],
      "metadata": {
        "id": "BZm9JLDTelSH"
      },
      "execution_count": null,
      "outputs": []
    },
    {
      "cell_type": "code",
      "source": [],
      "metadata": {
        "id": "Oug3OWPwelbB"
      },
      "execution_count": null,
      "outputs": []
    },
    {
      "cell_type": "markdown",
      "source": [
        "## Multimodal Capabilities"
      ],
      "metadata": {
        "id": "ODE1sQBwWYOt"
      }
    },
    {
      "cell_type": "code",
      "source": [
        "from IPython.display import Image, display\n",
        "\n",
        "image_url = \"https://tripfixers.com/wp-content/uploads/2019/11/eiffel-tower-with-snow.jpeg\"\n",
        "display(Image(url=image_url))"
      ],
      "metadata": {
        "colab": {
          "base_uri": "https://localhost:8080/",
          "height": 488
        },
        "id": "fOL1DnWvUV5R",
        "outputId": "801f3cb6-35d3-4616-9f30-29973e238b5c"
      },
      "execution_count": null,
      "outputs": [
        {
          "output_type": "display_data",
          "data": {
            "text/html": [
              "<img src=\"https://tripfixers.com/wp-content/uploads/2019/11/eiffel-tower-with-snow.jpeg\"/>"
            ],
            "text/plain": [
              "<IPython.core.display.Image object>"
            ]
          },
          "metadata": {}
        }
      ]
    },
    {
      "cell_type": "code",
      "source": [
        "# Define the messages for the chat\n",
        "messages = [\n",
        "    {\n",
        "        \"role\": \"user\",\n",
        "        \"content\": [\n",
        "            {\n",
        "                \"type\": \"text\",\n",
        "                \"text\": \"What's in this image?\"\n",
        "            },\n",
        "            {\n",
        "                \"type\": \"image_url\",\n",
        "                \"image_url\": \"https://tripfixers.com/wp-content/uploads/2019/11/eiffel-tower-with-snow.jpeg\"\n",
        "            }\n",
        "        ]\n",
        "    }\n",
        "]\n",
        "\n",
        "# Get the chat response\n",
        "chat_response = client.chat.complete(\n",
        "    model=model,\n",
        "    messages=messages\n",
        ")\n",
        "\n",
        "\n",
        "\n",
        "\n",
        "\n",
        "markdown_text = chat_response.choices[0].message.content\n",
        "\n",
        "wrapped_text = textwrap.fill(markdown_text, width=80)\n",
        "display(Markdown(wrapped_text))\n",
        "# Print the content of the response\n",
        "# print(chat_response.choices[0].message.content)\n"
      ],
      "metadata": {
        "colab": {
          "base_uri": "https://localhost:8080/",
          "height": 98
        },
        "id": "OgWOMgQyTBsW",
        "outputId": "f68118fc-c9cd-46f2-b6ea-210f6f125278"
      },
      "execution_count": null,
      "outputs": [
        {
          "output_type": "display_data",
          "data": {
            "text/plain": [
              "<IPython.core.display.Markdown object>"
            ],
            "text/markdown": "The image depicts a serene winter scene featuring the Eiffel Tower in Paris,\nFrance. The Eiffel Tower is covered in a light dusting of snow, giving it a\npicturesque and somewhat magical appearance. The surrounding area is also\nblanketed in snow, with snow-covered trees and bushes lining a pathway that\nleads towards the tower. A classic street lamp with a black base and green top\nis visible in the foreground, adding to the charm of the scene. The sky is\novercast, contributing to the tranquil and cold atmosphere of the winter day.\nThe overall mood of the image is peaceful and romantic, capturing the beauty of\nParis in winter."
          },
          "metadata": {}
        }
      ]
    },
    {
      "cell_type": "code",
      "source": [],
      "metadata": {
        "id": "etUZTD0AfDRJ"
      },
      "execution_count": null,
      "outputs": []
    },
    {
      "cell_type": "code",
      "source": [],
      "metadata": {
        "id": "C9nuO7q-fDUT"
      },
      "execution_count": null,
      "outputs": []
    },
    {
      "cell_type": "code",
      "source": [],
      "metadata": {
        "id": "atsDwngZfDXs"
      },
      "execution_count": null,
      "outputs": []
    },
    {
      "cell_type": "code",
      "source": [],
      "metadata": {
        "id": "EqecwQBcfDbn"
      },
      "execution_count": null,
      "outputs": []
    },
    {
      "cell_type": "code",
      "source": [],
      "metadata": {
        "id": "X7OpW1NAfDeb"
      },
      "execution_count": null,
      "outputs": []
    },
    {
      "cell_type": "code",
      "source": [],
      "metadata": {
        "id": "0xzHb4hmfDh2"
      },
      "execution_count": null,
      "outputs": []
    },
    {
      "cell_type": "code",
      "source": [
        "def multimodl_mistral(query, image_url):\n",
        "\n",
        "  #Define the messages for the chat\n",
        "  messages = [\n",
        "      {\n",
        "          \"role\": \"user\",\n",
        "          \"content\": [\n",
        "              {\n",
        "                  \"type\": \"text\",\n",
        "                  \"text\": query\n",
        "              },\n",
        "              {\n",
        "                  \"type\": \"image_url\",\n",
        "                  \"image_url\": image_url\n",
        "              }\n",
        "          ]\n",
        "      }\n",
        "  ]\n",
        "\n",
        "  # Get the chat response\n",
        "  chat_response = client.chat.complete(\n",
        "      model=model,\n",
        "      messages=messages\n",
        "  )\n",
        "\n",
        "  print(chat_response.choices[0].message.content)\n",
        "\n",
        "\n",
        "  markdown_text = chat_response.choices[0].message.content\n",
        "\n",
        "  # wrapped_text = textwrap.fill(markdown_text, width=80)\n",
        "\n",
        "  display(Markdown(markdown_text))"
      ],
      "metadata": {
        "id": "9qb0UgLuSbCC"
      },
      "execution_count": null,
      "outputs": []
    },
    {
      "cell_type": "code",
      "source": [],
      "metadata": {
        "id": "D3wIMhM2TyaI"
      },
      "execution_count": null,
      "outputs": []
    },
    {
      "cell_type": "code",
      "source": [
        "query = \"What's in this image?\"\n",
        "image_url = \"https://tripfixers.com/wp-content/uploads/2019/11/eiffel-tower-with-snow.jpeg\"\n",
        "\n",
        "multimodl_mistral(query, image_url)"
      ],
      "metadata": {
        "colab": {
          "base_uri": "https://localhost:8080/",
          "height": 98
        },
        "id": "8wTdb4ZjTqzn",
        "outputId": "ae1962e2-1b41-4626-b4f0-ec44fca5ed0c"
      },
      "execution_count": null,
      "outputs": [
        {
          "output_type": "display_data",
          "data": {
            "text/plain": [
              "<IPython.core.display.Markdown object>"
            ],
            "text/markdown": "The image depicts a winter scene featuring the Eiffel Tower in Paris, France. The Eiffel Tower is covered in a light layer of snow, giving it a serene and picturesque appearance. The surrounding area, including trees and bushes, is also dusted with snow, creating a tranquil and wintry atmosphere. A pathway leads towards the tower, flanked by bare trees and snow-covered shrubs. There is a classic street lamp along the pathway, adding to the charm of the scene. The sky is overcast, contributing to the overall calm and cold ambiance of the image."
          },
          "metadata": {}
        }
      ]
    },
    {
      "cell_type": "code",
      "source": [],
      "metadata": {
        "id": "Um0WWtboUca-"
      },
      "execution_count": null,
      "outputs": []
    },
    {
      "cell_type": "markdown",
      "source": [
        "### Understanding charts"
      ],
      "metadata": {
        "id": "EEkOYzZhT5HC"
      }
    },
    {
      "cell_type": "code",
      "source": [
        "query = \"What's in this image? provide as much details as possible\"\n",
        "image_url = \"https://cdn.statcdn.com/Infographic/images/normal/30322.jpeg\"\n",
        "\n",
        "display(Image(url=image_url))"
      ],
      "metadata": {
        "colab": {
          "base_uri": "https://localhost:8080/",
          "height": 1000
        },
        "id": "DzuUCthwUdNf",
        "outputId": "3cda00d3-6737-428c-fd3f-e0649b2dbadb"
      },
      "execution_count": null,
      "outputs": [
        {
          "output_type": "display_data",
          "data": {
            "text/html": [
              "<img src=\"https://cdn.statcdn.com/Infographic/images/normal/30322.jpeg\"/>"
            ],
            "text/plain": [
              "<IPython.core.display.Image object>"
            ]
          },
          "metadata": {}
        }
      ]
    },
    {
      "cell_type": "code",
      "source": [
        "multimodl_mistral(query, image_url)"
      ],
      "metadata": {
        "colab": {
          "base_uri": "https://localhost:8080/",
          "height": 621
        },
        "id": "6fczLZvRT2Fv",
        "outputId": "195364c4-584d-4c66-be93-cdca4dc8137d"
      },
      "execution_count": null,
      "outputs": [
        {
          "output_type": "display_data",
          "data": {
            "text/plain": [
              "<IPython.core.display.Markdown object>"
            ],
            "text/markdown": "The image titled \"France's Social Divide\" provides a detailed comparison of various socio-economic indicators between disadvantaged areas in France and the country as a whole. The data is presented in bar chart format, with red bars representing disadvantaged areas and blue bars representing the whole of France. Here are the key points:\n\n1. **Percentage of Working-Class Population**:\n   - Disadvantaged areas: 33.5%\n   - Whole of France: 14.5%\n\n2. **Unemployment Rate**:\n   - Disadvantaged areas: 18.1%\n   - Whole of France: 7.3%\n\n3. **Percentage of 16-25 Year-Olds Not in School and Unemployed**:\n   - Disadvantaged areas: 25.2%\n   - Whole of France: 12.9%\n\n4. **Median Monthly Income**:\n   - Disadvantaged areas: €1,168\n   - Whole of France: €1,822\n\n5. **Poverty Rate**:\n   - Disadvantaged areas: 43.3%\n   - Whole of France: 15.5%\n\n6. **Percentage of Households Living in Overcrowded Housing**:\n   - Disadvantaged areas: 22.0%\n   - Whole of France: 8.7%\n\n**Additional Information**:\n- Disadvantaged areas are defined as those with an average per-capita income of less than €11,250 per year.\n- In 2022, 5.4 million people (8% of the population) lived in 1,514 such areas across 859 municipalities.\n- The data is sourced from Insee, ONPV, DARES, and Observatoire des Inégalités, with the latest available data from 2019/2020, except for unemployment data, which is from 2022.\n\nThe image highlights significant disparities in socio-economic conditions between disadvantaged areas and the rest of France, indicating a pronounced social divide."
          },
          "metadata": {}
        }
      ]
    },
    {
      "cell_type": "code",
      "source": [
        "multimodl_mistral(\"what is the unemployment rate in Frane?\", image_url)"
      ],
      "metadata": {
        "colab": {
          "base_uri": "https://localhost:8080/",
          "height": 175
        },
        "id": "tEGAUFsaUBJV",
        "outputId": "4cd86f85-6f1d-45b5-f6de-e0271008a598"
      },
      "execution_count": null,
      "outputs": [
        {
          "output_type": "display_data",
          "data": {
            "text/plain": [
              "<IPython.core.display.Markdown object>"
            ],
            "text/markdown": "The image provides a comparison of socio-economic indicators between disadvantaged areas and France as a whole. To find the unemployment rate in France, we need to look at the specific data presented for the \"Whole of France.\"\n\nHere are the key points from the image:\n\n- The unemployment rate for disadvantaged areas is 18.1%.\n- The unemployment rate for the whole of France is 7.3%.\n\nGiven this information, the unemployment rate for the whole of France is 7.3%.\n\n**Final Answer:** The unemployment rate in France is 7.3%."
          },
          "metadata": {}
        }
      ]
    },
    {
      "cell_type": "code",
      "source": [],
      "metadata": {
        "id": "Us-sAkRBft3k"
      },
      "execution_count": null,
      "outputs": []
    },
    {
      "cell_type": "code",
      "source": [],
      "metadata": {
        "id": "6J4k5mKMft6W"
      },
      "execution_count": null,
      "outputs": []
    },
    {
      "cell_type": "code",
      "source": [],
      "metadata": {
        "id": "ZCPAORHoft9x"
      },
      "execution_count": null,
      "outputs": []
    },
    {
      "cell_type": "code",
      "source": [],
      "metadata": {
        "id": "pzV-KBPUfuBr"
      },
      "execution_count": null,
      "outputs": []
    },
    {
      "cell_type": "code",
      "source": [],
      "metadata": {
        "id": "lT1EGXBZfuHb"
      },
      "execution_count": null,
      "outputs": []
    },
    {
      "cell_type": "code",
      "source": [
        "query = \"can you transcribe this image?\"\n",
        "image_url = \"https://www.boredpanda.com/blog/wp-content/uploads/2022/11/interesting-receipts-102-6364c8d181c6a__700.jpg\"\n",
        "\n",
        "display(Image(url=image_url))"
      ],
      "metadata": {
        "colab": {
          "base_uri": "https://localhost:8080/",
          "height": 1000
        },
        "id": "Tezd_NxLUrHY",
        "outputId": "ff904757-2d32-4ef4-9090-ca338d5d7c2d"
      },
      "execution_count": null,
      "outputs": [
        {
          "output_type": "display_data",
          "data": {
            "text/html": [
              "<img src=\"https://www.boredpanda.com/blog/wp-content/uploads/2022/11/interesting-receipts-102-6364c8d181c6a__700.jpg\"/>"
            ],
            "text/plain": [
              "<IPython.core.display.Image object>"
            ]
          },
          "metadata": {}
        }
      ]
    },
    {
      "cell_type": "code",
      "source": [
        "multimodl_mistral(query, image_url)"
      ],
      "metadata": {
        "colab": {
          "base_uri": "https://localhost:8080/",
          "height": 302
        },
        "id": "O2snmxvyVd8k",
        "outputId": "abcb2a95-b11d-44e5-b17c-03b8246c1f63"
      },
      "execution_count": null,
      "outputs": [
        {
          "output_type": "display_data",
          "data": {
            "text/plain": [
              "<IPython.core.display.Markdown object>"
            ],
            "text/markdown": "Certainly! Here is the transcription of the image:\n\n---\n\n**Dine-In**\n\nCashier: Raul\n02-Apr-2022 5:01:56P\n\n1 EMPANADA - BEEF $3.00\n1 EMPANADA - CHEESE $3.00\n1 EMPANADA - CHICKEN $3.00\n1 Tallarin Huancaina Lomo Saltado $19.99\n1 1/2 Pisco Sour $15.00\n\nSubtotal $43.99\nLocal Taxes 5.5% $2.42\n\nTotal $46.41\n\nIMMIGRANTS MAKE AMERICA GREAT THEY ALSO COOKED YOUR FOOD AND SERVED YOU TODAY GOD BLESS YOU\n\nOnline: https://clover.com/r/D0BQZ3R656MDC\n\nOrder D0BQZ3R656MDC\n\nClover Privacy Policy\nhttps://clover.com/privacy\n\n---"
          },
          "metadata": {}
        }
      ]
    },
    {
      "cell_type": "code",
      "source": [
        "multimodl_mistral(query, image_url)"
      ],
      "metadata": {
        "id": "A6JKLU4ThVOK",
        "outputId": "0d8cb5ec-4179-4247-d86e-ab50927318da",
        "colab": {
          "base_uri": "https://localhost:8080/"
        }
      },
      "execution_count": null,
      "outputs": [
        {
          "output_type": "stream",
          "name": "stdout",
          "text": [
            "Certainly! Here is the transcription of the image:\n",
            "\n",
            "---\n",
            "\n",
            "**Dine-In**\n",
            "\n",
            "Cashier: Raul\n",
            "02-Apr-2022 5:01:56P\n",
            "\n",
            "1 EMPANADA - BEEF $3.00\n",
            "1 EMPANADA - CHEESE $3.00\n",
            "1 EMPANADA - CHICKEN $3.00\n",
            "1 Tallarin Huancaina Lomo Saltado $19.99\n",
            "1 1/2 Pisco Sour $15.00\n",
            "\n",
            "Subtotal $43.99\n",
            "Local Taxes 5.5% $2.42\n",
            "\n",
            "Total $46.41\n",
            "\n",
            "IMMIGRANTS MAKE AMERICA GREAT THEY ALSO COOKED YOUR FOOD AND SERVED YOU TODAY GOD BLESS YOU\n",
            "\n",
            "Online: https://clover.com/r/D0BQZ3R656MDC\n",
            "\n",
            "Order D0BQZ3R656MDC\n",
            "\n",
            "Clover Privacy Policy\n",
            "https://clover.com/privacy\n",
            "\n",
            "---\n"
          ]
        },
        {
          "output_type": "display_data",
          "data": {
            "text/plain": [
              "<IPython.core.display.Markdown object>"
            ],
            "text/markdown": "Certainly! Here is the transcription of the image:\n\n---\n\n**Dine-In**\n\nCashier: Raul\n02-Apr-2022 5:01:56P\n\n1 EMPANADA - BEEF $3.00\n1 EMPANADA - CHEESE $3.00\n1 EMPANADA - CHICKEN $3.00\n1 Tallarin Huancaina Lomo Saltado $19.99\n1 1/2 Pisco Sour $15.00\n\nSubtotal $43.99\nLocal Taxes 5.5% $2.42\n\nTotal $46.41\n\nIMMIGRANTS MAKE AMERICA GREAT THEY ALSO COOKED YOUR FOOD AND SERVED YOU TODAY GOD BLESS YOU\n\nOnline: https://clover.com/r/D0BQZ3R656MDC\n\nOrder D0BQZ3R656MDC\n\nClover Privacy Policy\nhttps://clover.com/privacy\n\n---"
          },
          "metadata": {}
        }
      ]
    },
    {
      "cell_type": "code",
      "source": [
        "image_url = \"https://www.boredpanda.com/blog/wp-content/uploads/2022/11/interesting-receipts-102-6364c8d181c6a__700.jpg\"\n",
        "multimodl_mistral(\"transcribe this image and generate a structured JSON\", image_url)"
      ],
      "metadata": {
        "colab": {
          "base_uri": "https://localhost:8080/",
          "height": 857
        },
        "id": "lxewPUujVih8",
        "outputId": "8fbb6bfd-528c-4cd3-fce1-e7365413b2db"
      },
      "execution_count": null,
      "outputs": [
        {
          "output_type": "display_data",
          "data": {
            "text/plain": [
              "<IPython.core.display.Markdown object>"
            ],
            "text/markdown": "Sure, here is the transcribed content of the image in a structured JSON format:\n\n```json\n{\n  \"receipt\": {\n    \"type\": \"Dine-in\",\n    \"cashier\": \"Raul\",\n    \"date\": \"02-Apr-2022\",\n    \"time\": \"5:01:56 PM\",\n    \"items\": [\n      {\n        \"description\": \"EMPANADA - BEEF\",\n        \"quantity\": 1,\n        \"price\": 3.00\n      },\n      {\n        \"description\": \"EMPANADA - CHEESE\",\n        \"quantity\": 1,\n        \"price\": 3.00\n      },\n      {\n        \"description\": \"EMPANADA - CHICKEN\",\n        \"quantity\": 1,\n        \"price\": 3.00\n      },\n      {\n        \"description\": \"Tallarin Huancaina Lomo Saltado\",\n        \"quantity\": 1,\n        \"price\": 19.99\n      },\n      {\n        \"description\": \"1/2 Pisco Sour\",\n        \"quantity\": 1,\n        \"price\": 15.00\n      }\n    ],\n    \"subtotal\": 43.99,\n    \"tax_rate\": \"5.5%\",\n    \"tax_amount\": 2.42,\n    \"total\": 46.41,\n    \"message\": \"IMMIGRANTS MAKE AMERICA GREAT THEY ALSO COOKED YOUR FOOD AND SERVED YOU TODAY GOD BLESS YOU\",\n    \"order_details\": {\n      \"order_number\": \"D0BQZ3R656MDC\",\n      \"online_link\": \"https://clover.com/r/D0BQZ3R656MDC\",\n      \"privacy_policy_link\": \"https://clover.com/privacy\"\n    }\n  }\n}\n```\n\nThis JSON structure captures all the details from the receipt, including the items, prices, taxes, total, and additional messages."
          },
          "metadata": {}
        }
      ]
    },
    {
      "cell_type": "code",
      "source": [],
      "metadata": {
        "id": "TqD0m6MbgrWP"
      },
      "execution_count": null,
      "outputs": []
    }
  ]
}