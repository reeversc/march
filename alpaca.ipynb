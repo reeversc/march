{
  "cells": [
    {
      "cell_type": "code",
      "source": [
        "pip install alpaca-py -q"
      ],
      "metadata": {
        "id": "-_F0j4GF5Dx5"
      },
      "execution_count": null,
      "outputs": []
    },
    {
      "cell_type": "code",
      "source": [
        "#trading_client = TradingClient(\"AKCDVZE5PPBFIH7HA4ON\", \"n12wY5ytIqdeJlGFnHhQhPcQjmZbAH1Szv0SQUgj\", paper=False)\n",
        "trading_client = TradingClient(\"AKGXNEGLN7ENDH25TYYK\", \"JWuCSnG1xZHThJQ3a3Pfp28Rc7IW5yVcuVOxP5Na\", paper=False)"
      ],
      "metadata": {
        "id": "frTNeyEV-okx"
      },
      "execution_count": null,
      "outputs": []
    },
    {
      "cell_type": "code",
      "source": [
        "from alpaca.trading.client import TradingClient\n",
        "from alpaca.trading.requests import LimitOrderRequest\n",
        "from alpaca.trading.enums import OrderSide, TimeInForce\n",
        "\n",
        "\n",
        "# preparing limit order\n",
        "limit_order_data = LimitOrderRequest(\n",
        "                    symbol=\"TPIC\",\n",
        "                    limit_price=0.838,\n",
        "                    qty=475,\n",
        "                    side=OrderSide.SELL,\n",
        "                    time_in_force=TimeInForce.DAY\n",
        "                   )\n",
        "\n",
        "# Limit order\n",
        "limit_order = trading_client.submit_order(\n",
        "                order_data=limit_order_data\n",
        "              )"
      ],
      "metadata": {
        "id": "BBXRCsu0-lqX"
      },
      "execution_count": null,
      "outputs": []
    }
  ],
  "metadata": {
    "kernelspec": {
      "display_name": "alpaca-py",
      "language": "python",
      "name": "python3"
    },
    "language_info": {
      "codemirror_mode": {
        "name": "ipython",
        "version": 3
      },
      "file_extension": ".py",
      "mimetype": "text/x-python",
      "name": "python",
      "nbconvert_exporter": "python",
      "pygments_lexer": "ipython3",
      "version": "3.11.9"
    },
    "colab": {
      "provenance": []
    }
  },
  "nbformat": 4,
  "nbformat_minor": 0
}