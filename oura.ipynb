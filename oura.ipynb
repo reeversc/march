{
  "nbformat": 4,
  "nbformat_minor": 0,
  "metadata": {
    "colab": {
      "provenance": [],
      "authorship_tag": " "
    },
    "kernelspec": {
      "name": "python3",
      "display_name": "Python 3"
    },
    "language_info": {
      "name": "python"
    }
  },
  "cells": [
    {
      "cell_type": "code",
      "execution_count": null,
      "metadata": {
        "id": "Pg7Q3hYsVflL"
      },
      "outputs": [],
      "source": [
        "import requests\n",
        "import pandas as pd\n",
        "from datetime import datetime, timedelta\n",
        "import matplotlib.pyplot as plt\n",
        "\n",
        "# Authentication and setup\n",
        "OURA_ACCESS_TOKEN = \"  "  # Replace with your token\n",
        "headers = {\"Authorization\": f\"Bearer {OURA_ACCESS_TOKEN}\"}\n",
        "base_url = \"https://api.ouraring.com/v2/usercollection/daily_sleep\"\n",
        "\n",
        "# Date range parameters (last 30 days by default)\n",
        "end_date = datetime.now().date()\n",
        "start_date = end_date - timedelta(days=30)\n",
        "\n",
        "# Fetch sleep data\n",
        "params = {\n",
        "    \"start_date\": start_date.isoformat(),\n",
        "    \"end_date\": end_date.isoformat()\n",
        "}\n",
        "\n",
        "response = requests.get(base_url, headers=headers, params=params)\n",
        "\n",
        "if response.status_code == 200:\n",
        "    data = response.json()\n",
        "    sleep_data = data.get(\"data\", [])\n",
        "\n",
        "    # Convert to pandas DataFrame\n",
        "    df = pd.DataFrame(sleep_data)\n",
        "\n",
        "    # Display basic info\n",
        "    print(f\"Successfully retrieved {len(df)} days of sleep data\")\n",
        "    print(\"\\nSample data:\")\n",
        "    print(df.head())\n",
        "\n",
        "    # Basic visualization\n",
        "    if not df.empty and 'total_sleep_duration' in df.columns:\n",
        "        plt.figure(figsize=(12, 6))\n",
        "        plt.bar(df['day'], df['total_sleep_duration'] / 3600)  # Convert seconds to hours\n",
        "        plt.title('Total Sleep Duration (Hours)')\n",
        "        plt.xlabel('Date')\n",
        "        plt.ylabel('Hours')\n",
        "        plt.xticks(rotation=45)\n",
        "        plt.tight_layout()\n",
        "        plt.show()\n",
        "\n",
        "        # Calculate average sleep stats\n",
        "        avg_sleep = df['total_sleep_duration'].mean() / 3600\n",
        "        print(f\"\\nAverage sleep duration: {avg_sleep:.2f} hours\")\n",
        "else:\n",
        "    print(f\"Error: {response.status_code}\")\n",
        "    print(response.text)"
      ]
    }
  ]
}
